{
 "cells": [
  {
   "cell_type": "markdown",
   "metadata": {},
   "source": [
    "# Week 7 Exercises\n",
    "\n",
    "This week we'll be exploring computer vision & neural networks by training a convolutional neural network (CNN) on ADDI (Automated computer-based Diagnosis system for Dermascopic Images) dataset."
   ]
  },
  {
   "cell_type": "code",
   "execution_count": null,
   "metadata": {},
   "outputs": [],
   "source": [
    "import os, scipy.ndimage\n",
    "import matplotlib.pyplot as plt\n",
    "from keras.models import Sequential\n",
    "from keras.layers import Conv2D, MaxPooling2D, BatchNormalization\n",
    "from keras.layers import Activation, Dropout, Flatten, Dense\n",
    "from keras.preprocessing.image import ImageDataGenerator"
   ]
  },
  {
   "cell_type": "markdown",
   "metadata": {},
   "source": [
    "## Exercise 1: Visualize the Data\n",
    "\n",
    "Check out some of the images from the dataset by running the code below! Feel free to change the indeces to look through other images."
   ]
  },
  {
   "cell_type": "code",
   "execution_count": null,
   "metadata": {},
   "outputs": [],
   "source": [
    "base = 'resources/addi/train'\n",
    "def get_example(label, idx):\n",
    "    img_name = os.listdir('%s/%s' % (base, label))[idx]\n",
    "    path = '%s/%s/%s' % (base, label, img_name)\n",
    "    img = scipy.ndimage.imread(path)\n",
    "    \n",
    "    plt.figure()\n",
    "    plt.imshow(img)\n",
    "    plt.show()\n",
    "    \n",
    "get_example('normal', 0), get_example('abnormal', 0)"
   ]
  },
  {
   "cell_type": "markdown",
   "metadata": {},
   "source": [
    "## Exercise 2: Train a Simple CNN\n",
    "\n",
    "Now, we'll create a simple CNN model with just convolutional and fully-connected layers on the task. Much of the code is heavily influenced by [the Keras CNN tutorial](https://blog.keras.io/building-powerful-image-classification-models-using-very-little-data.html), so definitely check that out!\n",
    "\n",
    "### Load the data\n",
    "Below, we have code that loads the data as an ImageDataGenerator, which will make it convenient for the Keras framework to deal with. Notice that the train generator has more input parameters--these are called data augmentations and allow us to generalize better when we have little training data. Read more about data augmentation here.\n",
    "\n",
    "Run the code below to load the data."
   ]
  },
  {
   "cell_type": "code",
   "execution_count": null,
   "metadata": {
    "scrolled": true
   },
   "outputs": [],
   "source": [
    "def load_data(batch_size):\n",
    "    train_datagen = ImageDataGenerator(rescale=1./255, shear_range=0.2, zoom_range=0.2, horizontal_flip=True)\n",
    "    test_datagen = ImageDataGenerator(rescale=1./255)\n",
    "\n",
    "    train_generator = train_datagen.flow_from_directory('resources/addi/train', \n",
    "                                                        target_size=(150, 150),\n",
    "                                                        batch_size=batch_size,\n",
    "                                                        class_mode='binary')\n",
    "\n",
    "    val_generator = test_datagen.flow_from_directory('resources/addi/val',\n",
    "                                                            target_size=(150, 150),\n",
    "                                                            batch_size=batch_size,\n",
    "                                                            class_mode='binary')\n",
    "    \n",
    "    test_generator = test_datagen.flow_from_directory('resources/addi/test',\n",
    "                                                      target_size=(150, 150),\n",
    "                                                      batch_size=batch_size,\n",
    "                                                      class_mode='binary')\n",
    "    \n",
    "    return train_generator, val_generator, test_generator\n",
    "\n",
    "train_generator, val_generator, test_generator = load_data(16)"
   ]
  },
  {
   "cell_type": "markdown",
   "metadata": {},
   "source": [
    "### Create your Model\n",
    "\n",
    "Write the code for your simple CNN below. Check out the [Keras documentation on CNNs](https://keras.io/layers/convolutional/) for reference!"
   ]
  },
  {
   "cell_type": "code",
   "execution_count": null,
   "metadata": {},
   "outputs": [],
   "source": [
    "def get_simple_cnn():\n",
    "    model = Sequential()\n",
    "    \n",
    "    ## YOUR MODEL CODE HERE\n",
    "\n",
    "    model.compile(loss='binary_crossentropy', optimizer='adam',metrics=['accuracy'])\n",
    "    return model\n",
    "\n",
    "simple_model = get_simple_cnn()\n",
    "simple_model.summary()"
   ]
  },
  {
   "cell_type": "markdown",
   "metadata": {},
   "source": [
    "### Train the Model!\n",
    "\n",
    "Run the code below to train your simple model on the training data, evaluating on the validation data at every epoch. You should get around 60% on the validation set with this model."
   ]
  },
  {
   "cell_type": "code",
   "execution_count": null,
   "metadata": {},
   "outputs": [],
   "source": [
    "def train_model(model, train_generator, validation_generator, epochs):\n",
    "    model.fit_generator(train_generator,\n",
    "                        epochs=epochs,\n",
    "                        validation_data=validation_generator,)\n",
    "    \n",
    "train_model(simple_model, train_generator, val_generator, 5)"
   ]
  },
  {
   "cell_type": "markdown",
   "metadata": {},
   "source": [
    "## Exercise 3: Train an Advanced CNN\n",
    "\n",
    "Now, we'll create a more advanced CNN model by adding max-pooling and spatial batch-normalization\n",
    "\n",
    "### Create your Model\n",
    "\n",
    "Architect your advanced model below. Again, be sure to reference the [Keras CNN docs](https://keras.io/layers/convolutional/), as well as the [Keras Normalization docs](https://keras.io/layers/normalization/) (for the Spatial Batch Norm layer)."
   ]
  },
  {
   "cell_type": "code",
   "execution_count": null,
   "metadata": {},
   "outputs": [],
   "source": [
    "def get_advanced_cnn():\n",
    "    model = Sequential()\n",
    "    \n",
    "    ## YOUR MODEL CODE HERE\n",
    "\n",
    "    model.compile(loss='binary_crossentropy', optimizer='adam',metrics=['accuracy'])\n",
    "    return model\n",
    "\n",
    "advanced_model = get_advanced_cnn()\n",
    "advanced_model.summary()"
   ]
  },
  {
   "cell_type": "markdown",
   "metadata": {},
   "source": [
    "### Train the Model!\n",
    "\n",
    "Run the code below to train your simple model on the training data, evaluating on the validation data at every epoch. You should be able to get around 70% accuracy on validation with this model."
   ]
  },
  {
   "cell_type": "code",
   "execution_count": null,
   "metadata": {},
   "outputs": [],
   "source": [
    "train_model(advanced_model, train_generator, val_generator, 10)"
   ]
  },
  {
   "cell_type": "markdown",
   "metadata": {},
   "source": [
    "### Evalutate the Model\n",
    "\n",
    "Evaluate your model on the test set below! The first number is the loss, and the second is the accuracy. You should be able to get around 70% accuracy on the test set with your advanced model!"
   ]
  },
  {
   "cell_type": "code",
   "execution_count": null,
   "metadata": {},
   "outputs": [],
   "source": [
    "advanced_model.evaluate_generator(test_generator)"
   ]
  },
  {
   "cell_type": "code",
   "execution_count": null,
   "metadata": {},
   "outputs": [],
   "source": []
  }
 ],
 "metadata": {
  "kernelspec": {
   "display_name": "Python 3",
   "language": "python",
   "name": "python3"
  },
  "language_info": {
   "codemirror_mode": {
    "name": "ipython",
    "version": 3
   },
   "file_extension": ".py",
   "mimetype": "text/x-python",
   "name": "python",
   "nbconvert_exporter": "python",
   "pygments_lexer": "ipython3",
   "version": "3.6.2"
  }
 },
 "nbformat": 4,
 "nbformat_minor": 2
}
