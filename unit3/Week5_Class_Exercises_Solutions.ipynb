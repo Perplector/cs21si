{
 "cells": [
  {
   "cell_type": "markdown",
   "metadata": {},
   "source": [
    "# Week 5 Exercises - Solutions\n",
    "\n",
    "Today, we'll be exploring deep neural networks and applying them to data related to the COMPAS algorithm. I got this data [here](https://github.com/propublica/compas-analysis), in case you're interested in exploring it on your own!"
   ]
  },
  {
   "cell_type": "markdown",
   "metadata": {},
   "source": [
    "## Setting up the Environment\n",
    "\n",
    "Clone the `unit3` repository from GitHub and install dependencies in requirements.txt [(instructions here, just in case)](http://web.stanford.edu/class/cs21si/setup.html).\n",
    "\n",
    "Run any code below by highlighting it and hitting `Shift + Enter`. Import the libraries below."
   ]
  },
  {
   "cell_type": "code",
   "execution_count": 1,
   "metadata": {
    "collapsed": false
   },
   "outputs": [
    {
     "name": "stderr",
     "output_type": "stream",
     "text": [
      "Using Theano backend.\n"
     ]
    }
   ],
   "source": [
    "from __future__ import print_function\n",
    "import keras\n",
    "from keras.datasets import mnist\n",
    "from keras.models import Sequential\n",
    "from keras.layers import Dense, Dropout, Activation, BatchNormalization\n",
    "from keras import regularizers\n",
    "from keras import backend as K\n",
    "import numpy as np\n",
    "import pandas as pd\n",
    "import math\n",
    "import matplotlib.pyplot as plt\n",
    "import random\n",
    "\n",
    "# fix random seed for reproducibility\n",
    "np.random.seed(1337)"
   ]
  },
  {
   "cell_type": "markdown",
   "metadata": {},
   "source": [
    "## Read in Data"
   ]
  },
  {
   "cell_type": "code",
   "execution_count": 2,
   "metadata": {
    "collapsed": false,
    "scrolled": false
   },
   "outputs": [
    {
     "name": "stdout",
     "output_type": "stream",
     "text": [
      "                         name     sex  age              race  num_priors  \\\n",
      "0            miguel hernandez    Male   69             Other           0   \n",
      "2                 kevon dixon    Male   34  African-American           0   \n",
      "3                    ed philo    Male   24  African-American           4   \n",
      "4                 marcu brown    Male   23  African-American           1   \n",
      "5          bouthy pierrelouis    Male   43             Other           2   \n",
      "6                marsha miles    Male   44             Other           0   \n",
      "7               edward riddle    Male   41         Caucasian          14   \n",
      "8              steven stewart    Male   43             Other           3   \n",
      "9            elizabeth thieme  Female   39         Caucasian           0   \n",
      "10          darrell blackburn    Male   20         Caucasian           0   \n",
      "11                 jamie good  Female   26         Caucasian           0   \n",
      "12                  bo bradac    Male   21         Caucasian           1   \n",
      "13             benjamin franc    Male   27         Caucasian           0   \n",
      "14             ellyaher lanza    Male   23  African-American           3   \n",
      "15            kortney coleman  Female   37         Caucasian           0   \n",
      "16                 kyle lewis    Male   22         Caucasian           0   \n",
      "17               jarrod turbe    Male   41  African-American           0   \n",
      "18              craig gilbert  Female   47         Caucasian           1   \n",
      "19            samuel seraphin    Male   31  African-American           7   \n",
      "20            mario hernandez    Male   37          Hispanic           0   \n",
      "21             darrious davis    Male   25  African-American           3   \n",
      "22               neil heckart    Male   31         Caucasian           6   \n",
      "23                michael lux    Male   31         Caucasian           5   \n",
      "24            columbus wilson    Male   64  African-American          13   \n",
      "25        vandivuiet williams    Male   21  African-American           1   \n",
      "26               nelson avalo    Male   27         Caucasian           0   \n",
      "27             janel denicola  Female   21         Caucasian           0   \n",
      "29              dominic pabon    Male   24          Hispanic           1   \n",
      "30            anthony laporta    Male   42         Caucasian           1   \n",
      "31            russell sottile    Male   43         Caucasian           1   \n",
      "...                       ...     ...  ...               ...         ...   \n",
      "11727              cory jones    Male   25  African-American           3   \n",
      "11728           ward sheridan    Male   55         Caucasian           6   \n",
      "11729          robert schmidt    Male   25         Caucasian           3   \n",
      "11730             jose roldan    Male   32         Caucasian           0   \n",
      "11731              adam adams    Male   22  African-American           2   \n",
      "11732         stephen bassett    Male   52         Caucasian           0   \n",
      "11733          jeremy wiggins    Male   38  African-American          21   \n",
      "11734          steven koliske    Male   47         Caucasian           0   \n",
      "11735             carlos cruz    Male   36          Hispanic          29   \n",
      "11736           glenn barrett    Male   53  African-American          14   \n",
      "11737          alonzo hepburn    Male   20  African-American           1   \n",
      "11738             amanda jace  Female   22         Caucasian           0   \n",
      "11739         orysya romanyuk  Female   54             Other           0   \n",
      "11740    edwin moralesherrera    Male   36          Hispanic           0   \n",
      "11741          abilio alvarez    Male   51          Hispanic           0   \n",
      "11742         khadijha parker  Female   22  African-American           0   \n",
      "11743            thomas freel    Male   43         Caucasian           7   \n",
      "11744           charles scott    Male   56  African-American           3   \n",
      "11745      dashawniese rainey  Female   34  African-American           1   \n",
      "11746            martin davis    Male   24  African-American           1   \n",
      "11747              adam clark    Male   24         Caucasian           0   \n",
      "11748       cody allencoveyou    Male   23         Caucasian           0   \n",
      "11749          michael walker    Male   56  African-American           0   \n",
      "11750          carlos vasquez    Male   44          Hispanic           0   \n",
      "11751        rodrick phillips    Male   63  African-American           5   \n",
      "11752        patrick hamilton    Male   47             Other           1   \n",
      "11753       raymond hernandez    Male   22         Caucasian           3   \n",
      "11754  dieuseul pierre-gilles    Male   35             Other           0   \n",
      "11755        scott lomagistro    Male   29         Caucasian           2   \n",
      "11756                chin yan    Male   34             Asian           0   \n",
      "\n",
      "                               charge  violence_score  recidivism_score  \\\n",
      "0        Aggravated Assault w/Firearm               1                 1   \n",
      "2      Felony Battery w/Prior Convict               1                 3   \n",
      "3               Possession of Cocaine               3                 4   \n",
      "4              Possession of Cannabis               6                 8   \n",
      "5               arrest case no charge               1                 1   \n",
      "6                             Battery               1                 1   \n",
      "7           Possession Burglary Tools               2                 6   \n",
      "8               arrest case no charge               3                 4   \n",
      "9                             Battery               1                 1   \n",
      "10           Possession Of Alprazolam               9                10   \n",
      "11           Possession Of Alprazolam               3                 5   \n",
      "12                    Insurance Fraud               5                 3   \n",
      "13            Poss 3,4 MDMA (Ecstasy)               4                 4   \n",
      "14                            Battery               4                 6   \n",
      "15                            Battery               1                 1   \n",
      "16                            Battery               5                 3   \n",
      "17     Poss3,4 Methylenedioxymethcath               2                 4   \n",
      "18              arrest case no charge               1                 1   \n",
      "19     Felony Driving While Lic Suspd               2                 3   \n",
      "20                            Battery               1                 1   \n",
      "21      Grand Theft in the 3rd Degree               9                10   \n",
      "22      Driving While License Revoked               4                 5   \n",
      "23               Possession Of Heroin               2                 3   \n",
      "24              arrest case no charge               3                 6   \n",
      "25      Battery on Law Enforc Officer               9                 9   \n",
      "26      Possession Of Methamphetamine               3                 2   \n",
      "27     Introduce Contraband Into Jail               5                 4   \n",
      "29     Lewd/Lasc Battery Pers 12+/<16               5                 4   \n",
      "30     Trafficking In Methamphetamine               1                 3   \n",
      "31       Susp Drivers Lic 1st Offense               2                 1   \n",
      "...                               ...             ...               ...   \n",
      "11727    Burglary Unoccupied Dwelling               4                 6   \n",
      "11728          Possession of Morphine               1                 1   \n",
      "11729      Wear Mask w/Commit Offense               3                 3   \n",
      "11730                         Battery               1                 1   \n",
      "11731      Possess Drug Paraphernalia               6                 6   \n",
      "11732   Possession Of Methamphetamine               1                 5   \n",
      "11733  Felony Battery w/Prior Convict              10                10   \n",
      "11734  Aggravated Assault W/Dead Weap               1                 1   \n",
      "11735   Driving While License Revoked               3                10   \n",
      "11736   Grand Theft in the 3rd Degree               4                 6   \n",
      "11737           arrest case no charge              10                 9   \n",
      "11738                         Battery               4                 4   \n",
      "11739  DUI Level 0.15 Or Minor In Veh               1                 1   \n",
      "11740     Operating W/O Valid License               1                 1   \n",
      "11741     Felony Battery (Dom Strang)               1                 2   \n",
      "11742  Aggrav Battery w/Deadly Weapon               7                 7   \n",
      "11743           arrest case no charge               1                 2   \n",
      "11744  Aggravated Assault W/Dead Weap               3                 4   \n",
      "11745   Driving While License Revoked               1                 2   \n",
      "11746   Grand Theft in the 3rd Degree               5                 4   \n",
      "11747     Burglary Conveyance Unoccup               5                 3   \n",
      "11748   Trespassing/Construction Site               5                 7   \n",
      "11749     Grand Theft (Motor Vehicle)               1                 1   \n",
      "11750                         Battery               1                 1   \n",
      "11751     Driving Under The Influence               1                 1   \n",
      "11752      Burglary Structure Unoccup               1                 3   \n",
      "11753                         Battery               5                 7   \n",
      "11754                         Battery               3                 4   \n",
      "11755           arrest case no charge               2                 3   \n",
      "11756   Grand Theft in the 3rd Degree               1                 1   \n",
      "\n",
      "       violence_true  recidivism_true  \n",
      "0                  0                0  \n",
      "2                  1                1  \n",
      "3                  0                1  \n",
      "4                  0                0  \n",
      "5                  0                0  \n",
      "6                  0                0  \n",
      "7                  0                1  \n",
      "8                  0                0  \n",
      "9                  0                0  \n",
      "10                 0                0  \n",
      "11                 0                0  \n",
      "12                 1                1  \n",
      "13                 0                0  \n",
      "14                 0                1  \n",
      "15                 0                0  \n",
      "16                 0                0  \n",
      "17                 0                0  \n",
      "18                 0                1  \n",
      "19                 0                1  \n",
      "20                 0                0  \n",
      "21                 0                0  \n",
      "22                 1                1  \n",
      "23                 0                1  \n",
      "24                 0                1  \n",
      "25                 0                1  \n",
      "26                 0                1  \n",
      "27                 0                0  \n",
      "29                 0                1  \n",
      "30                 0                0  \n",
      "31                 0                0  \n",
      "...              ...              ...  \n",
      "11727              0                0  \n",
      "11728              0                0  \n",
      "11729              0                1  \n",
      "11730              0                0  \n",
      "11731              0                0  \n",
      "11732              0                0  \n",
      "11733              0                1  \n",
      "11734              0                0  \n",
      "11735              0                0  \n",
      "11736              0                1  \n",
      "11737              1                1  \n",
      "11738              0                1  \n",
      "11739              0                0  \n",
      "11740              0                0  \n",
      "11741              0                0  \n",
      "11742              0                0  \n",
      "11743              0                1  \n",
      "11744              0                0  \n",
      "11745              0                0  \n",
      "11746              0                1  \n",
      "11747              0                0  \n",
      "11748              0                0  \n",
      "11749              0                0  \n",
      "11750              0                0  \n",
      "11751              0                1  \n",
      "11752              0                0  \n",
      "11753              0                1  \n",
      "11754              0                0  \n",
      "11755              0                0  \n",
      "11756              0                0  \n",
      "\n",
      "[11027 rows x 10 columns]\n"
     ]
    }
   ],
   "source": [
    "filename = \"resources/compas-scores.csv\"\n",
    "\n",
    "# load data\n",
    "data = pd.read_csv(filename, header = 0)\n",
    "\n",
    "# select fields we want\n",
    "fields_of_interest = ['name', 'sex', 'age', 'race', 'priors_count', 'c_charge_desc', \n",
    "                      'v_decile_score', 'decile_score', 'is_violent_recid', 'is_recid']\n",
    "data = data[fields_of_interest]\n",
    "data.columns = ['name', 'sex', 'age', 'race', 'num_priors', 'charge', \n",
    "                'violence_score', 'recidivism_score', 'violence_true', 'recidivism_true']\n",
    "\n",
    "# remove records with missing scores\n",
    "data = data.loc[(data.violence_score != -1) & (data.recidivism_score != -1)]\n",
    "data = data.loc[(data.violence_true != -1) & (data.recidivism_true != -1)]\n",
    "print(data)"
   ]
  },
  {
   "cell_type": "markdown",
   "metadata": {},
   "source": [
    "## Jupyter Exercise 1: Visualize the Data\n",
    "\n",
    "With the increasing availability of rich data sets encoding several features, it's difficult to extract useful knowledge just by looking at the numbers. This is where data visualizations come in. "
   ]
  },
  {
   "cell_type": "code",
   "execution_count": 3,
   "metadata": {
    "collapsed": false
   },
   "outputs": [],
   "source": [
    "# races of interest\n",
    "races = ['African-American', 'Caucasian', 'Hispanic']\n",
    "colors = ['magenta', 'yellow', 'cyan']\n",
    "\n",
    "#########################################################\n",
    "# Counts number of people per race. Plots as bar graph.\n",
    "#########################################################\n",
    "def plot_racial_distrib():\n",
    "    race_indices = [1,2,3]\n",
    "    race_population = [(data.loc[data['race'] == race].shape[0]) for race in races]\n",
    "\n",
    "    plt.bar(race_indices, race_population, align='center', color = colors)\n",
    "    plt.xticks(race_indices, races)\n",
    "    plt.title('Racial Distribution of COMPAS Defendants')\n",
    "    plt.rcParams[\"figure.figsize\"] = [15, 5]\n",
    "    plt.show()\n",
    "\n",
    "#########################################################\n",
    "# Plots input feature by race as bar graph.\n",
    "#########################################################\n",
    "def plot_feature_by_race(feature, normalized = True):\n",
    "    # bar chart parameters\n",
    "    width = 0.25\n",
    "    groups = sorted(data[feature].unique(), key=int)\n",
    "    deciles = np.arange(1, len(groups) + 1)\n",
    "    # deciles = np.arange(1, 11) # for each of the 10 scores\n",
    "    \n",
    "    if normalized:\n",
    "        race_population = [(data.loc[data['race'] == race].shape[0]) for race in races]\n",
    "    else:\n",
    "        race_population = [1 for race in races]\n",
    "    \n",
    "    race_bars = []\n",
    "    for i in range(len(races)):\n",
    "        race_data = data.loc[data['race'] == races[i]]\n",
    "        bar = plt.bar(deciles + (i-1)*width, race_data[feature].value_counts()/race_population[i], \n",
    "                      width, color = colors[i])\n",
    "        race_bars.append(bar)\n",
    "\n",
    "    plt.title('COMPAS ' + feature + ' by Race')\n",
    "    plt.xticks(deciles + width / 2, groups)\n",
    "    plt.legend(tuple(bar for bar in race_bars), tuple(races))\n",
    "    plt.rcParams[\"figure.figsize\"] = [15, 5]\n",
    "\n",
    "    plt.show()"
   ]
  },
  {
   "cell_type": "markdown",
   "metadata": {},
   "source": [
    "**Your task:** Using the functions defined above, plot the racial distribution of defendants in our database. Also plot the violence and recidivism COMPAS scores by race. You should see that African-Americans are disproportionately assigned higher recidivism and violence scores, compared to Caucasians and Hispanics."
   ]
  },
  {
   "cell_type": "code",
   "execution_count": 4,
   "metadata": {
    "collapsed": false
   },
   "outputs": [
    {
     "data": {
      "image/png": "[encoded data removed]",
      "text/plain": [
       "<matplotlib.figure.Figure at 0x10fe63748>"
      ]
     },
     "metadata": {},
     "output_type": "display_data"
    },
    {
     "data": {
      "image/png": "[encoded data removed]",
      "text/plain": [
       "<matplotlib.figure.Figure at 0x1196e6438>"
      ]
     },
     "metadata": {},
     "output_type": "display_data"
    },
    {
     "data": {
      "image/png": "[encoded data removed]",
      "text/plain": [
       "<matplotlib.figure.Figure at 0x11aac22b0>"
      ]
     },
     "metadata": {},
     "output_type": "display_data"
    }
   ],
   "source": [
    "# YOUR CODE HERE:\n",
    "plot_racial_distrib()\n",
    "plot_feature_by_race('recidivism_score')\n",
    "plot_feature_by_race('violence_score')\n",
    "# END CODE"
   ]
  },
  {
   "cell_type": "markdown",
   "metadata": {},
   "source": [
    "## Clean up the Data a Little More"
   ]
  },
  {
   "cell_type": "code",
   "execution_count": 5,
   "metadata": {
    "collapsed": false
   },
   "outputs": [
    {
     "name": "stdout",
     "output_type": "stream",
     "text": [
      "                         name  sex  age  race  num_priors  \\\n",
      "0            miguel hernandez    0   69     5           0   \n",
      "2                 kevon dixon    0   34     0           0   \n",
      "3                    ed philo    0   24     0           4   \n",
      "4                 marcu brown    0   23     0           1   \n",
      "5          bouthy pierrelouis    0   43     5           2   \n",
      "6                marsha miles    0   44     5           0   \n",
      "7               edward riddle    0   41     2          14   \n",
      "8              steven stewart    0   43     5           3   \n",
      "9            elizabeth thieme    1   39     2           0   \n",
      "10          darrell blackburn    0   20     2           0   \n",
      "11                 jamie good    1   26     2           0   \n",
      "12                  bo bradac    0   21     2           1   \n",
      "13             benjamin franc    0   27     2           0   \n",
      "14             ellyaher lanza    0   23     0           3   \n",
      "15            kortney coleman    1   37     2           0   \n",
      "16                 kyle lewis    0   22     2           0   \n",
      "17               jarrod turbe    0   41     0           0   \n",
      "18              craig gilbert    1   47     2           1   \n",
      "19            samuel seraphin    0   31     0           7   \n",
      "20            mario hernandez    0   37     3           0   \n",
      "21             darrious davis    0   25     0           3   \n",
      "22               neil heckart    0   31     2           6   \n",
      "23                michael lux    0   31     2           5   \n",
      "24            columbus wilson    0   64     0          13   \n",
      "25        vandivuiet williams    0   21     0           1   \n",
      "26               nelson avalo    0   27     2           0   \n",
      "27             janel denicola    1   21     2           0   \n",
      "29              dominic pabon    0   24     3           1   \n",
      "30            anthony laporta    0   42     2           1   \n",
      "31            russell sottile    0   43     2           1   \n",
      "...                       ...  ...  ...   ...         ...   \n",
      "11727              cory jones    0   25     0           3   \n",
      "11728           ward sheridan    0   55     2           6   \n",
      "11729          robert schmidt    0   25     2           3   \n",
      "11730             jose roldan    0   32     2           0   \n",
      "11731              adam adams    0   22     0           2   \n",
      "11732         stephen bassett    0   52     2           0   \n",
      "11733          jeremy wiggins    0   38     0          21   \n",
      "11734          steven koliske    0   47     2           0   \n",
      "11735             carlos cruz    0   36     3          29   \n",
      "11736           glenn barrett    0   53     0          14   \n",
      "11737          alonzo hepburn    0   20     0           1   \n",
      "11738             amanda jace    1   22     2           0   \n",
      "11739         orysya romanyuk    1   54     5           0   \n",
      "11740    edwin moralesherrera    0   36     3           0   \n",
      "11741          abilio alvarez    0   51     3           0   \n",
      "11742         khadijha parker    1   22     0           0   \n",
      "11743            thomas freel    0   43     2           7   \n",
      "11744           charles scott    0   56     0           3   \n",
      "11745      dashawniese rainey    1   34     0           1   \n",
      "11746            martin davis    0   24     0           1   \n",
      "11747              adam clark    0   24     2           0   \n",
      "11748       cody allencoveyou    0   23     2           0   \n",
      "11749          michael walker    0   56     0           0   \n",
      "11750          carlos vasquez    0   44     3           0   \n",
      "11751        rodrick phillips    0   63     0           5   \n",
      "11752        patrick hamilton    0   47     5           1   \n",
      "11753       raymond hernandez    0   22     2           3   \n",
      "11754  dieuseul pierre-gilles    0   35     5           0   \n",
      "11755        scott lomagistro    0   29     2           2   \n",
      "11756                chin yan    0   34     1           0   \n",
      "\n",
      "                               charge  violence_score  recidivism_score  \\\n",
      "0        Aggravated Assault w/Firearm               0                 0   \n",
      "2      Felony Battery w/Prior Convict               0                 0   \n",
      "3               Possession of Cocaine               0                 0   \n",
      "4              Possession of Cannabis               1                 1   \n",
      "5               arrest case no charge               0                 0   \n",
      "6                             Battery               0                 0   \n",
      "7           Possession Burglary Tools               0                 1   \n",
      "8               arrest case no charge               0                 0   \n",
      "9                             Battery               0                 0   \n",
      "10           Possession Of Alprazolam               1                 1   \n",
      "11           Possession Of Alprazolam               0                 0   \n",
      "12                    Insurance Fraud               0                 0   \n",
      "13            Poss 3,4 MDMA (Ecstasy)               0                 0   \n",
      "14                            Battery               0                 1   \n",
      "15                            Battery               0                 0   \n",
      "16                            Battery               0                 0   \n",
      "17     Poss3,4 Methylenedioxymethcath               0                 0   \n",
      "18              arrest case no charge               0                 0   \n",
      "19     Felony Driving While Lic Suspd               0                 0   \n",
      "20                            Battery               0                 0   \n",
      "21      Grand Theft in the 3rd Degree               1                 1   \n",
      "22      Driving While License Revoked               0                 0   \n",
      "23               Possession Of Heroin               0                 0   \n",
      "24              arrest case no charge               0                 1   \n",
      "25      Battery on Law Enforc Officer               1                 1   \n",
      "26      Possession Of Methamphetamine               0                 0   \n",
      "27     Introduce Contraband Into Jail               0                 0   \n",
      "29     Lewd/Lasc Battery Pers 12+/<16               0                 0   \n",
      "30     Trafficking In Methamphetamine               0                 0   \n",
      "31       Susp Drivers Lic 1st Offense               0                 0   \n",
      "...                               ...             ...               ...   \n",
      "11727    Burglary Unoccupied Dwelling               0                 1   \n",
      "11728          Possession of Morphine               0                 0   \n",
      "11729      Wear Mask w/Commit Offense               0                 0   \n",
      "11730                         Battery               0                 0   \n",
      "11731      Possess Drug Paraphernalia               1                 1   \n",
      "11732   Possession Of Methamphetamine               0                 0   \n",
      "11733  Felony Battery w/Prior Convict               1                 1   \n",
      "11734  Aggravated Assault W/Dead Weap               0                 0   \n",
      "11735   Driving While License Revoked               0                 1   \n",
      "11736   Grand Theft in the 3rd Degree               0                 1   \n",
      "11737           arrest case no charge               1                 1   \n",
      "11738                         Battery               0                 0   \n",
      "11739  DUI Level 0.15 Or Minor In Veh               0                 0   \n",
      "11740     Operating W/O Valid License               0                 0   \n",
      "11741     Felony Battery (Dom Strang)               0                 0   \n",
      "11742  Aggrav Battery w/Deadly Weapon               1                 1   \n",
      "11743           arrest case no charge               0                 0   \n",
      "11744  Aggravated Assault W/Dead Weap               0                 0   \n",
      "11745   Driving While License Revoked               0                 0   \n",
      "11746   Grand Theft in the 3rd Degree               0                 0   \n",
      "11747     Burglary Conveyance Unoccup               0                 0   \n",
      "11748   Trespassing/Construction Site               0                 1   \n",
      "11749     Grand Theft (Motor Vehicle)               0                 0   \n",
      "11750                         Battery               0                 0   \n",
      "11751     Driving Under The Influence               0                 0   \n",
      "11752      Burglary Structure Unoccup               0                 0   \n",
      "11753                         Battery               0                 1   \n",
      "11754                         Battery               0                 0   \n",
      "11755           arrest case no charge               0                 0   \n",
      "11756   Grand Theft in the 3rd Degree               0                 0   \n",
      "\n",
      "       violence_true  recidivism_true  \n",
      "0                  0                0  \n",
      "2                  1                1  \n",
      "3                  0                1  \n",
      "4                  0                0  \n",
      "5                  0                0  \n",
      "6                  0                0  \n",
      "7                  0                1  \n",
      "8                  0                0  \n",
      "9                  0                0  \n",
      "10                 0                0  \n",
      "11                 0                0  \n",
      "12                 1                1  \n",
      "13                 0                0  \n",
      "14                 0                1  \n",
      "15                 0                0  \n",
      "16                 0                0  \n",
      "17                 0                0  \n",
      "18                 0                1  \n",
      "19                 0                1  \n",
      "20                 0                0  \n",
      "21                 0                0  \n",
      "22                 1                1  \n",
      "23                 0                1  \n",
      "24                 0                1  \n",
      "25                 0                1  \n",
      "26                 0                1  \n",
      "27                 0                0  \n",
      "29                 0                1  \n",
      "30                 0                0  \n",
      "31                 0                0  \n",
      "...              ...              ...  \n",
      "11727              0                0  \n",
      "11728              0                0  \n",
      "11729              0                1  \n",
      "11730              0                0  \n",
      "11731              0                0  \n",
      "11732              0                0  \n",
      "11733              0                1  \n",
      "11734              0                0  \n",
      "11735              0                0  \n",
      "11736              0                1  \n",
      "11737              1                1  \n",
      "11738              0                1  \n",
      "11739              0                0  \n",
      "11740              0                0  \n",
      "11741              0                0  \n",
      "11742              0                0  \n",
      "11743              0                1  \n",
      "11744              0                0  \n",
      "11745              0                0  \n",
      "11746              0                1  \n",
      "11747              0                0  \n",
      "11748              0                0  \n",
      "11749              0                0  \n",
      "11750              0                0  \n",
      "11751              0                1  \n",
      "11752              0                0  \n",
      "11753              0                1  \n",
      "11754              0                0  \n",
      "11755              0                0  \n",
      "11756              0                0  \n",
      "\n",
      "[11027 rows x 10 columns]\n"
     ]
    }
   ],
   "source": [
    "# convert strings to numerical values\n",
    "races = ['African-American', 'Asian', 'Caucasian', 'Hispanic', 'Native American', 'Other']\n",
    "sex_classes = {'Male': 0, 'Female' : 1}\n",
    "race_classes = {races[i]: i for i in range(len(races))}\n",
    "\n",
    "# 'Other': 0, 'Caucasian': 1, 'African-American': 2, 'Hispanic': 3, 'Asian': 4, 'Native American': 5}\n",
    "data['sex'] = data['sex'].apply(lambda x: sex_classes[x])\n",
    "data['race'] = data['race'].apply(lambda x: race_classes[x])\n",
    "# threshold and binarize scores\n",
    "data['violence_score'] = data['violence_score'].apply(lambda x: 0 if x <= 5 else 1)\n",
    "data['recidivism_score'] = data['recidivism_score'].apply(lambda x: 0 if x <= 5 else 1)\n",
    "print(data)\n",
    "\n",
    "# convert pandas dataframe to numpy array for easier processing\n",
    "data = data.values"
   ]
  },
  {
   "cell_type": "markdown",
   "metadata": {},
   "source": [
    "## Jupyter Exercise 2: Partition into Train and Test Sets\n",
    "\n",
    "The scores above have been thresholded and binarized (values > 5 are now 1, others are 0). We will focus on predicting recidivism scores. This is now a binary classification problem where our inputs are sex, age, race, and number of prior convictions. Our output is 1 (high risk of recidivism) or 0 (low risk of recidivism). The entire dataset has already been split into inputs (X) and outputs (y). \n",
    " \n",
    "**Your task:** Partition the dataset into two sets: train (80%) and test (20%). The validation split will happen later. Assume the records have already been shuffled. Use the function `get_rows()` defined below."
   ]
  },
  {
   "cell_type": "code",
   "execution_count": 6,
   "metadata": {
    "collapsed": false
   },
   "outputs": [],
   "source": [
    "# split into input (X) and output (Y) variables\n",
    "X = data[:,1:5] # sex, age, race, num_priors\n",
    "y = data[:,7] # recidivism_score\n",
    "\n",
    "num_train = int(math.ceil(X.shape[0]*0.8))\n",
    "num_test = int(math.floor(X.shape[0]*0.2))\n",
    "\n",
    "#########################################################\n",
    "# Returns the specified records of a given array, from\n",
    "# row_start to row_start + num_rows - 1 (inclusive).\n",
    "#########################################################\n",
    "def get_rows(dataset, row_start, num_rows):\n",
    "    return dataset[row_start:row_start + num_rows]"
   ]
  },
  {
   "cell_type": "code",
   "execution_count": 7,
   "metadata": {
    "collapsed": false
   },
   "outputs": [
    {
     "name": "stdout",
     "output_type": "stream",
     "text": [
      "8822 records in train set\n",
      "2205 records in test set\n",
      "11027 records in total\n"
     ]
    }
   ],
   "source": [
    "# YOUR CODE HERE:\n",
    "X_train = get_rows(X, 0, num_train)\n",
    "y_train = get_rows(y, 0, num_train)\n",
    "\n",
    "X_test = get_rows(X, num_train, num_test)\n",
    "y_test = get_rows(y, num_train, num_test)\n",
    "# END CODE\n",
    "\n",
    "num_classes = 2\n",
    "# convert class vectors to binary class matrices\n",
    "y_train = keras.utils.to_categorical(y_train, num_classes)\n",
    "y_test = keras.utils.to_categorical(y_test, num_classes)\n",
    "\n",
    "print(X_train.shape[0], 'records in train set')\n",
    "print(X_test.shape[0], 'records in test set')\n",
    "print(X.shape[0], 'records in total')"
   ]
  },
  {
   "cell_type": "markdown",
   "metadata": {},
   "source": [
    "## Jupyter Exercise 3: Create a Baseline Model\n",
    "\n",
    "**Your task:** At this point, we're ready to create a basic neural network classifier using Keras. Your model should have 4 layers, of sizes 50, 100, 50, and `num_classes`. All layers, save the last one, should use a ReLU activation function. The last layer should use softmax. Check this [guide](https://keras.io/getting-started/sequential-model-guide/) out to get started."
   ]
  },
  {
   "cell_type": "code",
   "execution_count": 8,
   "metadata": {
    "collapsed": false
   },
   "outputs": [],
   "source": [
    "batch_size = 256\n",
    "epochs = 15\n",
    "learning_rate = 5e-2\n",
    "\n",
    "#########################################################\n",
    "# Initializes baseline neural network with 4 layers.\n",
    "# ReLU and Softmax activations. Cross-entropy loss.\n",
    "#########################################################\n",
    "def baseline_classifier(learning_rate):\n",
    "    # create model\n",
    "    model_baseline = Sequential()\n",
    "\n",
    "    # YOUR CODE HERE:\n",
    "    model_baseline.add(Dense(50, input_dim = X.shape[1], activation = 'relu')) \n",
    "    model_baseline.add(Dense(100, activation = 'relu')) \n",
    "    model_baseline.add(Dense(50, activation = 'relu')) \n",
    "    model_baseline.add(Dense(num_classes, activation = 'softmax'))\n",
    "    # END CODE\n",
    "\n",
    "    # compile model\n",
    "    sgd = keras.optimizers.SGD(lr = learning_rate)\n",
    "    model_baseline.compile(loss = keras.losses.categorical_crossentropy, \n",
    "                  optimizer = sgd, metrics=['accuracy'])\n",
    "    \n",
    "    return model_baseline\n",
    "\n",
    "model_baseline = baseline_classifier(learning_rate)"
   ]
  },
  {
   "cell_type": "markdown",
   "metadata": {},
   "source": [
    "## Jupyter Exercise 4: Train and Evaluate the Baseline Model\n",
    "\n",
    "**Your task:** Use the `eval()` function below to train and evaluate our baseline model. The return value of `eval()` is a tuple of loss and accuracy. Print both of these. In `eval()`, feel free to change the value of the `verbose` parameter. When `verbose = 0`, no information is printed. When it's 5, a lot of detailed information about the training process gets printed. Your test accuracy for this basic model should be around 37%.\n",
    "\n",
    "Note that a parameter is `model.fit()` is `validation_split`. This takes a float from 0 to 1, representing the percentage of the training set to use for validation. Why do we need a validation set? More than training performance, we are interested in how our model does on unseen data. We can split data into only training and test. But if we then optimize our model using results from the test set, our test set can no longer be considered unseen data. As a workaround, we split our dataset into train, validation, and test. This way, we can optimize on our validation set, and only touch our test set at the very end."
   ]
  },
  {
   "cell_type": "code",
   "execution_count": 10,
   "metadata": {
    "collapsed": false,
    "scrolled": true
   },
   "outputs": [
    {
     "name": "stdout",
     "output_type": "stream",
     "text": [
      "  32/2205 [..............................] - ETA: 0s\n",
      "\n",
      "Test loss: 10.19716249928723\n",
      "Test accuracy: 0.3673469387619944\n"
     ]
    }
   ],
   "source": [
    "#########################################################\n",
    "# Trains and evaluates given model. Returns loss and \n",
    "# accuracy.\n",
    "#########################################################\n",
    "def eval(model, verb = 2):\n",
    "    # fit the model\n",
    "    model.fit(X_train, y_train, \n",
    "              epochs = epochs, \n",
    "              batch_size = batch_size,          \n",
    "              validation_split = 0.1,\n",
    "              verbose = verb,\n",
    "              shuffle = False)\n",
    "    \n",
    "    # evaluate the model\n",
    "    scores = model.evaluate(X_test, y_test)\n",
    "    \n",
    "    return scores\n",
    "\n",
    "# YOUR CODE HERE:\n",
    "loss, acc = eval(model_baseline, verb = 0)\n",
    "print('\\n\\nTest loss:', loss)\n",
    "print('Test accuracy:', acc)\n",
    "# END CODE"
   ]
  },
  {
   "cell_type": "markdown",
   "metadata": {},
   "source": [
    "## Jupyter Exercise 5: Introduce Regularization\n",
    "\n",
    "Sometimes our train accuracies are consistently higher than our test accuracy.  We might also see train losses that continue to decrease while the validation losses hit a minimum then increase. Both of these things are indicators of overfitting and poor model generalization. Regularization is a way to fix this. Regularization reduces overfitting by adding a penalty to the loss function. By adding this penalty, the model is trained such that it does not learn interdependent sets of features weights.\n",
    "\n",
    "**Your task:** Add L2 regularization to each hidden layer of our model. You may want to refer to the [Keras documentation about regularizers](https://keras.io/regularizers/). You can see up to a 30% gain in test accuracy after adding in regularization."
   ]
  },
  {
   "cell_type": "code",
   "execution_count": 11,
   "metadata": {
    "collapsed": false
   },
   "outputs": [
    {
     "name": "stdout",
     "output_type": "stream",
     "text": [
      "  32/2205 [..............................] - ETA: 0s\n",
      "\n",
      "Test loss: 0.9440328757508812\n",
      "Test accuracy: 0.6761904762986025\n"
     ]
    }
   ],
   "source": [
    "reg_strength = 0.15\n",
    "\n",
    "#########################################################\n",
    "# Initializes neural network with L2 regularization.\n",
    "#########################################################\n",
    "def regularized_classifier(learning_rate, reg_strength):\n",
    "    # create model\n",
    "    model_regularized = Sequential()\n",
    "\n",
    "    # YOUR CODE HERE:\n",
    "    model_regularized.add(Dense(50, input_dim = X.shape[1], activation = 'relu')) \n",
    "    model_regularized.add(Dense(100, activation = 'relu', kernel_regularizer=regularizers.l2(reg_strength))) \n",
    "    model_regularized.add(Dense(50, activation = 'relu', kernel_regularizer=regularizers.l2(reg_strength))) \n",
    "    model_regularized.add(Dense(num_classes, activation = 'softmax'))\n",
    "    # END CODE\n",
    "    \n",
    "    # compile model\n",
    "    sgd = keras.optimizers.SGD(lr = learning_rate)\n",
    "    model_regularized.compile(loss = keras.losses.categorical_crossentropy, \n",
    "                  optimizer = sgd, metrics=['accuracy'])\n",
    "    \n",
    "    return model_regularized\n",
    "\n",
    "model_regularized = regularized_classifier(learning_rate, reg_strength)\n",
    "\n",
    "loss, acc = eval(model_regularized, verb = 0)\n",
    "print('\\n\\nTest loss:', loss)\n",
    "print('Test accuracy:', acc)"
   ]
  },
  {
   "cell_type": "markdown",
   "metadata": {},
   "source": [
    "## Jupyter Exercise 6: Introduce Dropout\n",
    "\n",
    "Dropout is another regularization technique to prevent over-fitting. Dropout randomly selects neurons to ignore during training. In other words, they are “dropped-out” randomly. This means that their contribution to the activation of downstream neurons is temporally removed on the forward pass and any weight updates are not applied to the neuron on the backward pass. \n",
    "\n",
    "**Your task:** Remove the regularization, and this time around, add dropout for the input layer. You may want to refer to the [Keras documentation about Dropout layer](https://keras.io/layers/core/). You may see up to a 5% increase in test accuracy compared to the regularization model."
   ]
  },
  {
   "cell_type": "code",
   "execution_count": 12,
   "metadata": {
    "collapsed": false
   },
   "outputs": [
    {
     "name": "stdout",
     "output_type": "stream",
     "text": [
      "  32/2205 [..............................] - ETA: 0s\n",
      "\n",
      "Test loss: 0.58830770601491\n",
      "Test accuracy: 0.704308390130802\n"
     ]
    }
   ],
   "source": [
    "dropout_strength = 0.1\n",
    "\n",
    "#########################################################\n",
    "# Initializes neural network with dropout.\n",
    "#########################################################\n",
    "def dropout_classifier(learning_rate, dropout_strength):\n",
    "    # create model\n",
    "    model_dropout = Sequential()\n",
    "\n",
    "    # YOUR CODE HERE:\n",
    "    model_dropout.add(Dropout(dropout_strength, input_shape = (X.shape[1],)))\n",
    "    model_dropout.add(Dense(50, activation = 'relu')) \n",
    "    model_dropout.add(Dense(100, activation = 'relu')) \n",
    "    model_dropout.add(Dense(50, activation = 'relu')) \n",
    "    model_dropout.add(Dense(num_classes, activation = 'softmax'))\n",
    "    # END CODE\n",
    "    \n",
    "    # compile model\n",
    "    sgd = keras.optimizers.SGD(lr = learning_rate)\n",
    "    model_dropout.compile(loss = keras.losses.categorical_crossentropy, \n",
    "                  optimizer = sgd, metrics=['accuracy'])\n",
    "    \n",
    "    return model_dropout\n",
    "\n",
    "model_dropout = dropout_classifier(learning_rate, dropout_strength)\n",
    "\n",
    "loss, acc = eval(model_dropout, verb = 0)\n",
    "print('\\n\\nTest loss:', loss)\n",
    "print('Test accuracy:', acc)"
   ]
  },
  {
   "cell_type": "markdown",
   "metadata": {},
   "source": [
    "## Jupyter Exercise 7: Introduce Batch Normalization\n",
    "\n",
    "Batch Normalization is used to help remedy “covariate shifts”, or changes in the distribution of function’s domain.\n",
    "They help keep activations in the zero-mean unit-variance range. You might use batch normalization for the same reasons that you normalized the entire dataset initially.\n",
    "\n",
    "**Your task:** For our final exercise, keep dropout. Add batch normalization after the first dense layer. You may want to refer to the [Keras documentation about the BatchNorm layer](https://keras.io/layers/normalization/). You can see up to a 5% increase in test accuracy compared to the dropout-only model."
   ]
  },
  {
   "cell_type": "code",
   "execution_count": 13,
   "metadata": {
    "collapsed": false
   },
   "outputs": [
    {
     "name": "stdout",
     "output_type": "stream",
     "text": [
      "  32/2205 [..............................] - ETA: 0s\n",
      "\n",
      "Test loss: 0.5208241713830943\n",
      "Test accuracy: 0.7569160995840215\n"
     ]
    }
   ],
   "source": [
    "#########################################################\n",
    "# Initializes neural network with dropout.\n",
    "#########################################################\n",
    "def batchnorm_classifier(learning_rate, dropout_strength):\n",
    "    # create model\n",
    "    model_batchnorm = Sequential()\n",
    "\n",
    "    # YOUR CODE HERE:\n",
    "    model_batchnorm.add(Dropout(dropout_strength, input_shape = (X.shape[1],)))\n",
    "    model_batchnorm.add(Dense(50, activation = 'relu')) \n",
    "    model_batchnorm.add(BatchNormalization())\n",
    "    model_batchnorm.add(Dense(100, activation = 'relu')) \n",
    "    model_batchnorm.add(Dense(50, activation = 'relu')) \n",
    "    model_batchnorm.add(Dense(num_classes, activation = 'softmax'))\n",
    "    # END CODE\n",
    "    \n",
    "    # compile model\n",
    "    sgd = keras.optimizers.SGD(lr = learning_rate)\n",
    "    model_batchnorm.compile(loss = keras.losses.categorical_crossentropy, \n",
    "                  optimizer = sgd, metrics=['accuracy'])\n",
    "    \n",
    "    return model_batchnorm\n",
    "\n",
    "model_batchnorm = batchnorm_classifier(learning_rate, dropout_strength)\n",
    "\n",
    "loss, acc = eval(model_batchnorm, verb = 0)\n",
    "print('\\n\\nTest loss:', loss)\n",
    "print('Test accuracy:', acc)"
   ]
  },
  {
   "cell_type": "code",
   "execution_count": null,
   "metadata": {
    "collapsed": true
   },
   "outputs": [],
   "source": []
  }
 ],
 "metadata": {
  "anaconda-cloud": {},
  "kernelspec": {
   "display_name": "Python [default]",
   "language": "python",
   "name": "python3"
  },
  "language_info": {
   "codemirror_mode": {
    "name": "ipython",
    "version": 3
   },
   "file_extension": ".py",
   "mimetype": "text/x-python",
   "name": "python",
   "nbconvert_exporter": "python",
   "pygments_lexer": "ipython3",
   "version": "3.5.2"
  }
 },
 "nbformat": 4,
 "nbformat_minor": 1
}
