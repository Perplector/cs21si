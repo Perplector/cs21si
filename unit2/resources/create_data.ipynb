{
 "cells": [
  {
   "cell_type": "code",
   "execution_count": 1,
   "metadata": {},
   "outputs": [],
   "source": [
    "import numpy as np\n",
    "from collections import Counter"
   ]
  },
  {
   "cell_type": "code",
   "execution_count": 2,
   "metadata": {},
   "outputs": [
    {
     "data": {
      "text/plain": [
       "1942"
      ]
     },
     "execution_count": 2,
     "metadata": {},
     "output_type": "execute_result"
    }
   ],
   "source": [
    "words = open(\"crime.txt\", \"r\").read().lower()\\\n",
    "                            .replace(',', '').replace('.', '').replace('?', '')\\\n",
    "                            .replace('[', '').replace(']', '').split(' ')\n",
    "vocab_size = len(set(words))\n",
    "\n",
    "indexes = [pair[0] for pair in Counter(words).most_common(vocab_size)]\n",
    "\n",
    "vocab_size"
   ]
  },
  {
   "cell_type": "code",
   "execution_count": 3,
   "metadata": {},
   "outputs": [
    {
     "data": {
      "text/plain": [
       "array([1., 0., 0., ..., 0., 0., 0.])"
      ]
     },
     "execution_count": 3,
     "metadata": {},
     "output_type": "execute_result"
    }
   ],
   "source": [
    "def word2onehot(word):\n",
    "    one_hot = np.zeros(vocab_size)\n",
    "    one_hot[indexes.index(word)] = 1\n",
    "    \n",
    "    return one_hot\n",
    "    \n",
    "word2onehot('the')"
   ]
  },
  {
   "cell_type": "code",
   "execution_count": 4,
   "metadata": {},
   "outputs": [
    {
     "data": {
      "text/plain": [
       "(26870, 26870)"
      ]
     },
     "execution_count": 4,
     "metadata": {},
     "output_type": "execute_result"
    }
   ],
   "source": [
    "X, y = [], []\n",
    "for i in range(len(words)):\n",
    "    if i == 1:\n",
    "        window = [words[0]] + words[i+1:i+3]\n",
    "    else:\n",
    "        window = words[i-2:i] + words[i+1:i+3]\n",
    "    \n",
    "    word_oh = word2onehot(words[i])\n",
    "    for target_word in window:\n",
    "        target_oh = word2onehot(target_word)\n",
    "        \n",
    "        X.append(word_oh)\n",
    "        y.append(target_oh)\n",
    "    \n",
    "len(X), len(y)"
   ]
  },
  {
   "cell_type": "code",
   "execution_count": 5,
   "metadata": {},
   "outputs": [],
   "source": [
    "np.save('X.npy', X)\n",
    "np.save('y.npy', y)\n",
    "np.save('indexes.npy', indexes)"
   ]
  },
  {
   "cell_type": "code",
   "execution_count": null,
   "metadata": {},
   "outputs": [],
   "source": []
  }
 ],
 "metadata": {
  "kernelspec": {
   "display_name": "Python 3",
   "language": "python",
   "name": "python3"
  },
  "language_info": {
   "codemirror_mode": {
    "name": "ipython",
    "version": 3
   },
   "file_extension": ".py",
   "mimetype": "text/x-python",
   "name": "python",
   "nbconvert_exporter": "python",
   "pygments_lexer": "ipython3",
   "version": "3.6.2"
  }
 },
 "nbformat": 4,
 "nbformat_minor": 2
}
