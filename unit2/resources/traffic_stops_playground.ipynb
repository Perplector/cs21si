{
 "cells": [
  {
   "cell_type": "code",
   "execution_count": 1,
   "metadata": {},
   "outputs": [],
   "source": [
    "import csv\n",
    "import numpy as np\n",
    "\n",
    "def get_features(row):\n",
    "    features = [3, 9, 10, 12, 15, 19, 20]\n",
    "    for feature in features:\n",
    "        if row[feature] == '': return None\n",
    "    \n",
    "    return np.array(row)[features]\n",
    "\n",
    "def trim_data():\n",
    "    data = []\n",
    "    with open('FL_cleaned.csv', 'r') as csvfile:\n",
    "        trafficreader = csv.reader(csvfile, delimiter=',')\n",
    "\n",
    "        num_rows = 0\n",
    "        for i, row in enumerate(trafficreader):\n",
    "            if i % 50 == 1:\n",
    "#             if i != 0:\n",
    "                short_row = get_features(row)\n",
    "                if short_row is not None:\n",
    "                    data.append(short_row)\n",
    "\n",
    "    return np.array(data)\n",
    "\n",
    "data = trim_data()"
   ]
  },
  {
   "cell_type": "code",
   "execution_count": 33,
   "metadata": {},
   "outputs": [
    {
     "data": {
      "text/plain": [
       "(['A', 'A H', 'B', 'B H', 'H', 'H H', 'I', 'I H', 'O', 'O H', 'W', 'W H'],\n",
       " ['dui',\n",
       "  'speeding',\n",
       "  'license',\n",
       "  'moving violation',\n",
       "  'lights',\n",
       "  'seat belt',\n",
       "  'other'],\n",
       " ['Citation',\n",
       "  'Faulty Equipment Notice',\n",
       "  'Felony Arrest',\n",
       "  'Misdemeanor Arrest',\n",
       "  'Warning'])"
      ]
     },
     "execution_count": 33,
     "metadata": {},
     "output_type": "execute_result"
    }
   ],
   "source": [
    "races = list(np.unique(data[:, 3]))\n",
    "violations = ['dui', 'speeding', 'license', 'moving violation', 'lights', 'seat belt', 'other']\n",
    "outcomes = list(np.unique(data[:, 6]))\n",
    "\n",
    "races, violations, outcomes"
   ]
  },
  {
   "cell_type": "code",
   "execution_count": 34,
   "metadata": {},
   "outputs": [],
   "source": [
    "def preprocess_row(row):\n",
    "    label = outcomes.index(row[6])\n",
    "    \n",
    "    features= []\n",
    "    features.append(int(row[0].split(':')[0]))\n",
    "    features.append(0 if row[1] == 'F' else 1)\n",
    "    features.append(int(row[2]))\n",
    "    features.append(0 if row[5] == 'FALSE' else 1)\n",
    "    features.extend([1 if i == races.index(row[3]) else 0 for i in range(len(races))])\n",
    "    features.extend([1 if violation in row[4].lower() else 0 for violation in violations])\n",
    "    \n",
    "#     label = [1 if i == outcomes.index(row[6]) else 0 for i in range(len(outcomes))]\n",
    "    \n",
    "    return features, label\n",
    "\n",
    "def preprocess_data(data):\n",
    "    X, y = [], []\n",
    "    for row in data:\n",
    "        features, label = preprocess_row(row)\n",
    "        if features == None:\n",
    "            continue\n",
    "        X.append(features)\n",
    "        y.append(label)\n",
    "        \n",
    "    return np.array(X), np.array(y)\n",
    "\n",
    "X, y = preprocess_data(data)"
   ]
  },
  {
   "cell_type": "code",
   "execution_count": 36,
   "metadata": {},
   "outputs": [
    {
     "name": "stdout",
     "output_type": "stream",
     "text": [
      "['Citation', 'Faulty Equipment Notice', 'Felony Arrest', 'Misdemeanor Arrest', 'Warning']\n",
      "White outcomes\n",
      "Total  41032.0\n",
      "[(0, 29556), (1, 1039), (2, 57), (3, 839), (4, 9541)]\n",
      "[0.7203158510430884, 0.025321700136478845, 0.0013891596802495614, 0.020447455644375123, 0.23252583349580816]\n",
      "Black outcomes\n",
      "Total  13514.0\n",
      "[(0, 9947), (1, 320), (2, 67), (3, 625), (4, 2555)]\n",
      "[0.7360515021459227, 0.023679147550688177, 0.004957821518425337, 0.04624833505993784, 0.1890631937250259]\n",
      "dui outcomes\n",
      "Total  339.0\n",
      "[(0, 84), (2, 12), (3, 243)]\n",
      "[0.24778761061946902, 0.035398230088495575, 0.7168141592920354]\n",
      "speeding outcomes\n",
      "Total  43320.0\n",
      "[(0, 33777), (2, 50), (3, 768), (4, 8725)]\n",
      "[0.7797091412742382, 0.0011542012927054479, 0.01772853185595568, 0.20140812557710064]\n"
     ]
    }
   ],
   "source": [
    "from collections import defaultdict\n",
    "\n",
    "def filter_data(cond):\n",
    "    outcomes_buckets = defaultdict(int)\n",
    "    total = 0.0\n",
    "    for i in range(X.shape[0]):\n",
    "        if cond(X[i]): \n",
    "            outcomes_buckets[y[i]] += 1\n",
    "            total += 1\n",
    "    print(\"Total \", total)\n",
    "    results = sorted(outcomes_buckets.items())\n",
    "    print(results)\n",
    "    percents = [result[1] / total for result in results]\n",
    "    print(percents)\n",
    "\n",
    "print(outcomes)  \n",
    "print(\"White outcomes\")\n",
    "filter_data(lambda row: row[4 + races.index('W')] == 1)\n",
    "print(\"Black outcomes\")\n",
    "filter_data(lambda row: row[4 + races.index('B')] == 1)\n",
    "\n",
    "print(\"dui outcomes\")\n",
    "filter_data(lambda row: row[16 + violations.index('dui')] == 1)\n",
    "\n",
    "print(\"speeding outcomes\")\n",
    "filter_data(lambda row: row[16 + violations.index('speeding')] == 1)\n",
    "\n"
   ]
  },
  {
   "cell_type": "code",
   "execution_count": 5,
   "metadata": {},
   "outputs": [
    {
     "data": {
      "text/plain": [
       "((73123, 23), (73123,))"
      ]
     },
     "execution_count": 5,
     "metadata": {},
     "output_type": "execute_result"
    }
   ],
   "source": [
    "X.shape, y.shape"
   ]
  },
  {
   "cell_type": "code",
   "execution_count": 6,
   "metadata": {},
   "outputs": [
    {
     "data": {
      "text/plain": [
       "(54268, 1707, 148, 2199, 14801)"
      ]
     },
     "execution_count": 6,
     "metadata": {},
     "output_type": "execute_result"
    }
   ],
   "source": [
    "len(np.where(y == 0)[0]), len(np.where(y == 1)[0]), len(np.where(y == 2)[0]), len(np.where(y == 3)[0]), len(np.where(y == 4)[0])"
   ]
  },
  {
   "cell_type": "code",
   "execution_count": 7,
   "metadata": {},
   "outputs": [],
   "source": [
    "# X_final, y_final = [], []\n",
    "\n",
    "# for i in range(5):\n",
    "#     indexes = np.where(y == i)[0][:7304]\n",
    "#     X_final.extend(X[indexes])\n",
    "#     y_final.extend(y[indexes])\n",
    "    \n",
    "# X, y = X_final, y_final"
   ]
  },
  {
   "cell_type": "code",
   "execution_count": 8,
   "metadata": {},
   "outputs": [],
   "source": [
    "X, y = np.array(X), np.array(y)\n",
    "\n",
    "# indeces = np.random.choice(len(X), len(X), replace=False)\n",
    "# X, y = X[indeces], y[indeces]"
   ]
  },
  {
   "cell_type": "code",
   "execution_count": 9,
   "metadata": {},
   "outputs": [
    {
     "data": {
      "text/plain": [
       "(54268, 1707, 148, 2199, 14801)"
      ]
     },
     "execution_count": 9,
     "metadata": {},
     "output_type": "execute_result"
    }
   ],
   "source": [
    "len(np.where(y == 0)[0]), len(np.where(y == 1)[0]), len(np.where(y == 2)[0]), len(np.where(y == 3)[0]), len(np.where(y == 4)[0])"
   ]
  },
  {
   "cell_type": "code",
   "execution_count": 10,
   "metadata": {},
   "outputs": [],
   "source": [
    "X_train, X_val, X_test = X[:36000], X[36000:36400], X[36400:]\n",
    "y_train, y_val, y_test = y[:36000], y[36000:36400], y[36000:]\n",
    "\n",
    "#X_train, X_val, X_test = X[:1400], X[1400:1700], X[1700:]\n",
    "#y_train, y_val, y_test = y[:1400], y[1400:1700], y[1700:]"
   ]
  },
  {
   "cell_type": "code",
   "execution_count": 16,
   "metadata": {},
   "outputs": [
    {
     "name": "stdout",
     "output_type": "stream",
     "text": [
      "Iteration 1, loss = 2.07575396\n",
      "Iteration 2, loss = 0.82263919\n",
      "Iteration 3, loss = 0.77501165\n",
      "Iteration 4, loss = 0.74926941\n",
      "Iteration 5, loss = 0.73236175\n",
      "Iteration 6, loss = 0.71429667\n",
      "Iteration 7, loss = 0.69743616\n",
      "Iteration 8, loss = 0.68636161\n",
      "Iteration 9, loss = 0.67870579\n",
      "Iteration 10, loss = 0.67330078\n",
      "Iteration 11, loss = 0.66850644\n",
      "Iteration 12, loss = 0.66481920\n",
      "Iteration 13, loss = 0.66100693\n",
      "Iteration 14, loss = 0.65842105\n",
      "Iteration 15, loss = 0.65693538\n",
      "Iteration 16, loss = 0.65414367\n",
      "Iteration 17, loss = 0.65110966\n",
      "Iteration 18, loss = 0.64943766\n",
      "Iteration 19, loss = 0.64788475\n",
      "Iteration 20, loss = 0.64585579\n",
      "Iteration 21, loss = 0.64517039\n",
      "Iteration 22, loss = 0.64383610\n",
      "Iteration 23, loss = 0.64264901\n",
      "Iteration 24, loss = 0.64181562\n",
      "Iteration 25, loss = 0.64139238\n",
      "Iteration 26, loss = 0.64003372\n",
      "Iteration 27, loss = 0.63940266\n",
      "Iteration 28, loss = 0.63886289\n",
      "Iteration 29, loss = 0.63848206\n",
      "Iteration 30, loss = 0.63916417\n",
      "Iteration 31, loss = 0.63814655\n",
      "Iteration 32, loss = 0.63756481\n",
      "Iteration 33, loss = 0.63720586\n",
      "Iteration 34, loss = 0.63686858\n",
      "Iteration 35, loss = 0.63685217\n",
      "Iteration 36, loss = 0.63670092\n",
      "Iteration 37, loss = 0.63520923\n",
      "Iteration 38, loss = 0.63622215\n",
      "Iteration 39, loss = 0.63561782\n",
      "Iteration 40, loss = 0.63596700\n",
      "Training loss did not improve more than tol=0.000000 for two consecutive epochs. Stopping.\n"
     ]
    },
    {
     "data": {
      "text/plain": [
       "MLPClassifier(activation='relu', alpha=1e-05, batch_size='auto', beta_1=0.9,\n",
       "       beta_2=0.999, early_stopping=False, epsilon=1e-08,\n",
       "       hidden_layer_sizes=(10,), learning_rate='constant',\n",
       "       learning_rate_init=0.001, max_iter=200, momentum=0.9,\n",
       "       nesterovs_momentum=True, power_t=0.5, random_state=None,\n",
       "       shuffle=True, solver='adam', tol=1e-07, validation_fraction=0.1,\n",
       "       verbose=True, warm_start=False)"
      ]
     },
     "execution_count": 16,
     "metadata": {},
     "output_type": "execute_result"
    }
   ],
   "source": [
    "from sklearn.neural_network import MLPClassifier\n",
    "from sklearn import svm\n",
    "\n",
    "clf = MLPClassifier(solver='adam', alpha=1e-5, hidden_layer_sizes=(10,), max_iter=200, verbose=True, tol=1e-7)\n",
    "#clf = svm.SVC(decision_function_shape='ovo')\n",
    "\n",
    "clf.fit(X_train, y_train)"
   ]
  },
  {
   "cell_type": "code",
   "execution_count": 17,
   "metadata": {},
   "outputs": [
    {
     "data": {
      "text/plain": [
       "0.755"
      ]
     },
     "execution_count": 17,
     "metadata": {},
     "output_type": "execute_result"
    }
   ],
   "source": [
    "from sklearn.metrics import accuracy_score\n",
    "\n",
    "accuracy_score(y_val, clf.predict(X_val))"
   ]
  },
  {
   "cell_type": "code",
   "execution_count": 13,
   "metadata": {},
   "outputs": [
    {
     "data": {
      "text/plain": [
       "array([0, 0, 0, 0, 0, 0, 0, 0, 0, 0, 0, 0, 0, 3, 0, 0, 0, 0, 0, 0, 0, 0,\n",
       "       0, 0, 0, 0, 0, 0, 0, 0, 0, 0, 0, 0, 0, 0, 0, 0, 0, 0, 4, 0, 0, 0,\n",
       "       0, 0, 0, 0, 4, 0, 0, 0, 0, 0, 0, 0, 0, 0, 0, 0, 0, 0, 0, 0, 0, 4,\n",
       "       0, 0, 4, 0, 0, 0, 0, 0, 0, 0, 0, 0, 0, 0, 0, 0, 0, 0, 0, 0, 0, 0,\n",
       "       0, 0, 4, 0, 0, 0, 0, 0, 0, 0, 0, 0, 0, 0, 0, 0, 0, 0, 0, 0, 0, 0,\n",
       "       0, 0, 0, 0, 0, 0, 0, 0, 0, 0, 0, 0, 0, 0, 0, 0, 0, 0, 0, 0, 0, 0,\n",
       "       0, 0, 0, 0, 0, 0, 0, 0, 0, 0, 0, 0, 0, 0, 0, 0, 0, 0, 0, 0, 0, 0,\n",
       "       0, 0, 0, 0, 0, 0, 0, 0, 0, 0, 0, 0, 0, 0, 0, 0, 0, 0, 0, 0, 0, 0,\n",
       "       0, 0, 0, 0, 0, 0, 0, 0, 0, 0, 0, 0, 0, 0, 0, 0, 0, 0, 0, 0, 0, 0,\n",
       "       4, 0, 0, 0, 0, 4, 0, 0, 0, 0, 0, 0, 0, 0, 0, 0, 0, 0, 0, 0, 0, 0,\n",
       "       0, 0, 0, 0, 0, 0, 0, 0, 0, 0, 0, 0, 0, 0, 0, 0, 0, 0, 0, 0, 0, 0,\n",
       "       0, 0, 0, 0, 0, 0, 0, 0, 0, 0, 0, 0, 0, 0, 0, 0, 0, 0, 0, 0, 0, 0,\n",
       "       0, 0, 0, 0, 0, 0, 0, 0, 0, 0, 0, 0, 0, 0, 0, 0, 4, 4, 0, 0, 0, 0,\n",
       "       0, 0, 0, 0, 0, 0, 0, 0, 0, 0, 0, 0, 0, 0, 0, 0, 0, 0, 0, 0, 0, 0,\n",
       "       0, 0, 0, 0, 0, 0, 0, 0, 0, 0, 0, 0, 0, 0, 0, 0, 0, 0, 0, 0, 0, 0,\n",
       "       0, 0, 0, 0, 0, 0, 0, 0, 0, 0, 0, 0, 0, 0, 0, 0, 0, 0, 0, 0, 0, 0,\n",
       "       0, 0, 0, 0, 0, 0, 4, 0, 0, 0, 0, 0, 0, 0, 0, 0, 0, 0, 0, 0, 0, 0,\n",
       "       0, 0, 0, 0, 0, 0, 0, 0, 0, 0, 0, 0, 0, 0, 0, 0, 0, 0, 0, 0, 0, 0,\n",
       "       0, 4, 0, 0])"
      ]
     },
     "execution_count": 13,
     "metadata": {},
     "output_type": "execute_result"
    }
   ],
   "source": [
    "clf.predict(X_val)"
   ]
  },
  {
   "cell_type": "code",
   "execution_count": 14,
   "metadata": {},
   "outputs": [
    {
     "data": {
      "text/plain": [
       "array([0, 0, 4, 0, 0, 0, 0, 4, 0, 0, 4, 4, 4, 0, 4, 4, 0, 0, 4, 0, 4, 0,\n",
       "       0, 0, 0, 0, 0, 0, 0, 4, 0, 0, 4, 0, 0, 0, 0, 0, 0, 0, 0, 4, 0, 0,\n",
       "       0, 0, 0, 0, 4, 0, 0, 0, 0, 4, 0, 0, 0, 0, 1, 0, 0, 0, 0, 3, 4, 0,\n",
       "       4, 0, 4, 0, 4, 0, 0, 0, 4, 0, 4, 0, 4, 0, 0, 4, 0, 4, 4, 4, 4, 0,\n",
       "       0, 4, 4, 0, 0, 0, 4, 0, 0, 0, 0, 0, 0, 0, 0, 0, 0, 0, 0, 0, 0, 0,\n",
       "       0, 0, 0, 4, 4, 0, 0, 0, 0, 0, 4, 0, 0, 0, 4, 0, 0, 0, 0, 0, 4, 0,\n",
       "       0, 0, 0, 1, 0, 2, 4, 0, 0, 0, 4, 0, 0, 4, 4, 0, 4, 0, 4, 0, 0, 0,\n",
       "       0, 0, 0, 4, 0, 0, 0, 0, 0, 0, 0, 0, 0, 4, 0, 0, 4, 0, 0, 0, 0, 0,\n",
       "       4, 0, 0, 0, 0, 0, 0, 0, 0, 0, 0, 0, 0, 4, 0, 0, 0, 0, 4, 0, 0, 4,\n",
       "       4, 0, 4, 0, 0, 4, 0, 0, 0, 0, 1, 0, 4, 0, 0, 0, 0, 0, 0, 0, 4, 0,\n",
       "       0, 0, 0, 0, 0, 0, 0, 0, 0, 4, 0, 0, 0, 4, 4, 0, 4, 0, 0, 0, 0, 0,\n",
       "       0, 3, 0, 0, 0, 0, 0, 0, 0, 0, 0, 0, 0, 0, 0, 0, 0, 0, 0, 4, 0, 3,\n",
       "       0, 1, 0, 4, 0, 0, 3, 0, 0, 0, 0, 4, 4, 0, 0, 0, 4, 1, 0, 0, 0, 0,\n",
       "       0, 0, 0, 0, 0, 0, 0, 0, 0, 0, 0, 0, 0, 0, 0, 4, 0, 0, 4, 0, 0, 0,\n",
       "       0, 0, 0, 4, 4, 0, 0, 0, 0, 0, 4, 0, 0, 0, 3, 0, 4, 0, 0, 0, 0, 0,\n",
       "       0, 0, 0, 0, 0, 0, 0, 0, 0, 0, 4, 1, 0, 4, 0, 4, 0, 0, 1, 0, 0, 4,\n",
       "       0, 4, 0, 0, 0, 0, 4, 4, 0, 4, 0, 0, 4, 0, 0, 0, 4, 0, 0, 4, 4, 4,\n",
       "       0, 4, 0, 0, 4, 0, 4, 1, 0, 0, 0, 1, 4, 1, 0, 0, 0, 0, 0, 0, 0, 0,\n",
       "       0, 4, 0, 0])"
      ]
     },
     "execution_count": 14,
     "metadata": {},
     "output_type": "execute_result"
    }
   ],
   "source": [
    "y_val"
   ]
  },
  {
   "cell_type": "code",
   "execution_count": 15,
   "metadata": {},
   "outputs": [
    {
     "data": {
      "text/plain": [
       "[(23, 5)]"
      ]
     },
     "execution_count": 15,
     "metadata": {},
     "output_type": "execute_result"
    }
   ],
   "source": [
    "[coef.shape for coef in clf.coefs_]"
   ]
  },
  {
   "cell_type": "code",
   "execution_count": null,
   "metadata": {},
   "outputs": [],
   "source": []
  }
 ],
 "metadata": {
  "kernelspec": {
   "display_name": "Python 3",
   "language": "python",
   "name": "python3"
  },
  "language_info": {
   "codemirror_mode": {
    "name": "ipython",
    "version": 3
   },
   "file_extension": ".py",
   "mimetype": "text/x-python",
   "name": "python",
   "nbconvert_exporter": "python",
   "pygments_lexer": "ipython3",
   "version": "3.6.4"
  }
 },
 "nbformat": 4,
 "nbformat_minor": 2
}
