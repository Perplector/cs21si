{
 "cells": [
  {
   "cell_type": "code",
   "execution_count": 1,
   "metadata": {},
   "outputs": [],
   "source": [
    "import csv\n",
    "import numpy as np\n",
    "\n",
    "def get_features(row):\n",
    "    features = [3, 9, 10, 12, 15, 19, 20]\n",
    "    for feature in features:\n",
    "        if row[feature] == '': return None\n",
    "    \n",
    "    return np.array(row)[features]\n",
    "\n",
    "def trim_data():\n",
    "    data = []\n",
    "    with open('CT-clean.csv', 'r') as csvfile:\n",
    "        trafficreader = csv.reader(csvfile, delimiter=',')\n",
    "\n",
    "        num_rows = 0\n",
    "        for i, row in enumerate(trafficreader):\n",
    "            #if i % 50 == 1:\n",
    "            if i != 0:\n",
    "                short_row = get_features(row)\n",
    "                if short_row is not None:\n",
    "                    data.append(short_row)\n",
    "\n",
    "    return np.array(data)\n",
    "\n",
    "data = trim_data()"
   ]
  },
  {
   "cell_type": "code",
   "execution_count": 2,
   "metadata": {},
   "outputs": [
    {
     "data": {
      "text/plain": [
       "(['Asian', 'Black', 'Hispanic', 'Native American', 'White'],\n",
       " ['cell phone',\n",
       "  'speeding',\n",
       "  'license',\n",
       "  'moving violation',\n",
       "  'lights',\n",
       "  'seat belt',\n",
       "  'other'],\n",
       " ['Arrest', 'Summons', 'Ticket', 'Verbal Warning', 'Written Warning'])"
      ]
     },
     "execution_count": 2,
     "metadata": {},
     "output_type": "execute_result"
    }
   ],
   "source": [
    "races = list(np.unique(data[:, 3]))\n",
    "violations = ['cell phone', 'speeding', 'license', 'moving violation', 'lights', 'seat belt', 'other']\n",
    "outcomes = list(np.unique(data[:, 6]))\n",
    "\n",
    "races, violations, outcomes"
   ]
  },
  {
   "cell_type": "code",
   "execution_count": 3,
   "metadata": {},
   "outputs": [],
   "source": [
    "def preprocess_row(row):\n",
    "    label = outcomes.index(row[6])\n",
    "    \n",
    "    features= []\n",
    "    #features.append(int(row[0].split(':')[0]))\n",
    "    #features.append(0 if row[1] == 'F' else 1)\n",
    "    #features.append(int(row[2]))\n",
    "    features.append(0 if row[5] == 'FALSE' else 1)\n",
    "    features.extend([1 if i == races.index(row[3]) else 0 for i in range(len(races))])\n",
    "    features.extend([1 if violation in row[4].lower() else 0 for violation in violations])\n",
    "    \n",
    "    #label = [1 if i == outcomes.index(row[6]) else 0 for i in range(len(outcomes))]\n",
    "    \n",
    "    return features, label\n",
    "\n",
    "def preprocess_data(data):\n",
    "    X, y = [], []\n",
    "    for row in data:\n",
    "        features, label = preprocess_row(row)\n",
    "        if features == None:\n",
    "            continue\n",
    "        X.append(features)\n",
    "        y.append(label)\n",
    "        \n",
    "    return np.array(X), np.array(y)\n",
    "\n",
    "X, y = preprocess_data(data)"
   ]
  },
  {
   "cell_type": "code",
   "execution_count": 4,
   "metadata": {},
   "outputs": [
    {
     "data": {
      "text/plain": [
       "((313093, 13), (313093,))"
      ]
     },
     "execution_count": 4,
     "metadata": {},
     "output_type": "execute_result"
    }
   ],
   "source": [
    "X.shape, y.shape"
   ]
  },
  {
   "cell_type": "code",
   "execution_count": 5,
   "metadata": {},
   "outputs": [
    {
     "data": {
      "text/plain": [
       "(7304, 12196, 218822, 47714, 27057)"
      ]
     },
     "execution_count": 5,
     "metadata": {},
     "output_type": "execute_result"
    }
   ],
   "source": [
    "len(np.where(y == 0)[0]), len(np.where(y == 1)[0]), len(np.where(y == 2)[0]), len(np.where(y == 3)[0]), len(np.where(y == 4)[0])"
   ]
  },
  {
   "cell_type": "code",
   "execution_count": 6,
   "metadata": {},
   "outputs": [],
   "source": [
    "X_final, y_final = [], []\n",
    "\n",
    "for i in range(5):\n",
    "    indexes = np.where(y == i)[0][:7304]\n",
    "    X_final.extend(X[indexes])\n",
    "    y_final.extend(y[indexes])\n",
    "    \n",
    "X, y = X_final, y_final"
   ]
  },
  {
   "cell_type": "code",
   "execution_count": 7,
   "metadata": {},
   "outputs": [],
   "source": [
    "X, y = np.array(X), np.array(y)\n",
    "\n",
    "indeces = np.random.choice(len(X), len(X), replace=False)\n",
    "X, y = X[indeces], y[indeces]"
   ]
  },
  {
   "cell_type": "code",
   "execution_count": 8,
   "metadata": {},
   "outputs": [
    {
     "data": {
      "text/plain": [
       "(7304, 7304, 7304, 7304, 7304)"
      ]
     },
     "execution_count": 8,
     "metadata": {},
     "output_type": "execute_result"
    }
   ],
   "source": [
    "len(np.where(y == 0)[0]), len(np.where(y == 1)[0]), len(np.where(y == 2)[0]), len(np.where(y == 3)[0]), len(np.where(y == 4)[0])"
   ]
  },
  {
   "cell_type": "code",
   "execution_count": 9,
   "metadata": {},
   "outputs": [],
   "source": [
    "X_train, X_val, X_test = X[:36000], X[36000:36400], X[36400:]\n",
    "y_train, y_val, y_test = y[:36000], y[36000:36400], y[36400:]\n",
    "\n",
    "#X_train, X_val, X_test = X[:1400], X[1400:1700], X[1700:]\n",
    "#y_train, y_val, y_test = y[:1400], y[1400:1700], y[1700:]"
   ]
  },
  {
   "cell_type": "code",
   "execution_count": 10,
   "metadata": {},
   "outputs": [
    {
     "name": "stdout",
     "output_type": "stream",
     "text": [
      "Iteration 1, loss = 1.62875740\n",
      "Iteration 2, loss = 1.53464856\n",
      "Iteration 3, loss = 1.47110844\n",
      "Iteration 4, loss = 1.43512137\n",
      "Iteration 5, loss = 1.42211816\n",
      "Iteration 6, loss = 1.41661137\n",
      "Iteration 7, loss = 1.41333219\n",
      "Iteration 8, loss = 1.41216223\n",
      "Iteration 9, loss = 1.41090567\n",
      "Iteration 10, loss = 1.41032645\n",
      "Iteration 11, loss = 1.41016889\n",
      "Iteration 12, loss = 1.40988783\n",
      "Iteration 13, loss = 1.40976623\n",
      "Iteration 14, loss = 1.40949594\n",
      "Iteration 15, loss = 1.40930449\n",
      "Iteration 16, loss = 1.40938649\n",
      "Iteration 17, loss = 1.40914358\n",
      "Iteration 18, loss = 1.40924766\n",
      "Iteration 19, loss = 1.40917023\n",
      "Iteration 20, loss = 1.40912994\n",
      "Iteration 21, loss = 1.40919281\n",
      "Iteration 22, loss = 1.40883548\n",
      "Iteration 23, loss = 1.40941214\n",
      "Iteration 24, loss = 1.40858730\n",
      "Iteration 25, loss = 1.40859552\n",
      "Iteration 26, loss = 1.40878087\n",
      "Iteration 27, loss = 1.40861044\n",
      "Training loss did not improve more than tol=0.000000 for two consecutive epochs. Stopping.\n"
     ]
    },
    {
     "data": {
      "text/plain": [
       "MLPClassifier(activation='relu', alpha=1e-05, batch_size='auto', beta_1=0.9,\n",
       "       beta_2=0.999, early_stopping=False, epsilon=1e-08,\n",
       "       hidden_layer_sizes=(10, 8), learning_rate='constant',\n",
       "       learning_rate_init=0.001, max_iter=200, momentum=0.9,\n",
       "       nesterovs_momentum=True, power_t=0.5, random_state=None,\n",
       "       shuffle=True, solver='adam', tol=1e-15, validation_fraction=0.1,\n",
       "       verbose=True, warm_start=False)"
      ]
     },
     "execution_count": 10,
     "metadata": {},
     "output_type": "execute_result"
    }
   ],
   "source": [
    "from sklearn.neural_network import MLPClassifier\n",
    "from sklearn import svm\n",
    "\n",
    "clf = MLPClassifier(solver='adam', alpha=1e-5, hidden_layer_sizes=(10, 8), tol = 1e-15, early_stopping=False, verbose=True)\n",
    "#clf = svm.SVC(decision_function_shape='ovo')\n",
    "\n",
    "clf.fit(X_train, y_train)"
   ]
  },
  {
   "cell_type": "code",
   "execution_count": 11,
   "metadata": {},
   "outputs": [
    {
     "data": {
      "text/plain": [
       "0.365"
      ]
     },
     "execution_count": 11,
     "metadata": {},
     "output_type": "execute_result"
    }
   ],
   "source": [
    "from sklearn.metrics import accuracy_score\n",
    "\n",
    "accuracy_score(y_val, clf.predict(X_val))"
   ]
  },
  {
   "cell_type": "code",
   "execution_count": 12,
   "metadata": {},
   "outputs": [
    {
     "data": {
      "text/plain": [
       "array([0, 0, 2, 4, 2, 0, 4, 1, 0, 0, 4, 0, 3, 4, 4, 0, 0, 4, 0, 1, 4, 0,\n",
       "       1, 3, 4, 3, 1, 0, 4, 3, 3, 4, 0, 0, 1, 4, 0, 4, 4, 2, 4, 4, 2, 0,\n",
       "       3, 2, 4, 4, 4, 1, 4, 4, 4, 4, 1, 2, 4, 4, 3, 0, 2, 2, 3, 1, 3, 4,\n",
       "       2, 1, 4, 3, 4, 1, 2, 0, 4, 4, 0, 4, 4, 2, 3, 0, 0, 3, 4, 2, 4, 4,\n",
       "       4, 0, 4, 4, 1, 0, 3, 4, 4, 4, 1, 1, 4, 0, 4, 4, 0, 1, 1, 0, 4, 0,\n",
       "       1, 3, 2, 3, 2, 4, 0, 4, 3, 4, 1, 1, 0, 4, 0, 0, 0, 2, 0, 1, 2, 0,\n",
       "       2, 3, 0, 1, 4, 4, 0, 0, 4, 0, 4, 2, 2, 0, 4, 4, 4, 3, 4, 4, 4, 1,\n",
       "       0, 4, 1, 4, 0, 0, 0, 4, 4, 2, 3, 1, 1, 1, 1, 3, 3, 2, 3, 1, 1, 3,\n",
       "       2, 4, 0, 0, 0, 3, 1, 2, 2, 1, 2, 4, 0, 4, 4, 4, 3, 2, 4, 3, 1, 2,\n",
       "       4, 4, 4, 3, 3, 4, 4, 2, 0, 4, 2, 4, 3, 0, 4, 4, 1, 0, 2, 4, 4, 4,\n",
       "       3, 1, 2, 1, 1, 3, 1, 0, 4, 0, 0, 0, 3, 4, 4, 4, 4, 3, 0, 4, 2, 2,\n",
       "       3, 2, 0, 1, 0, 0, 1, 4, 2, 1, 3, 4, 0, 4, 4, 4, 4, 3, 0, 0, 1, 4,\n",
       "       0, 1, 0, 4, 1, 4, 0, 4, 4, 2, 4, 4, 0, 3, 0, 4, 1, 3, 0, 0, 4, 2,\n",
       "       4, 2, 0, 4, 0, 1, 3, 2, 2, 4, 1, 0, 0, 0, 4, 3, 2, 4, 3, 2, 4, 0,\n",
       "       4, 0, 0, 3, 1, 1, 4, 2, 1, 4, 0, 4, 1, 1, 0, 1, 0, 1, 4, 0, 3, 4,\n",
       "       0, 0, 3, 0, 0, 1, 1, 1, 1, 0, 3, 4, 1, 4, 4, 4, 0, 0, 4, 2, 4, 2,\n",
       "       4, 0, 4, 3, 2, 1, 4, 0, 4, 0, 4, 4, 2, 0, 3, 3, 1, 4, 0, 4, 1, 1,\n",
       "       2, 2, 1, 4, 0, 4, 1, 1, 1, 1, 4, 4, 1, 4, 2, 4, 3, 4, 0, 4, 4, 0,\n",
       "       0, 4, 4, 0])"
      ]
     },
     "execution_count": 12,
     "metadata": {},
     "output_type": "execute_result"
    }
   ],
   "source": [
    "clf.predict(X_val)"
   ]
  },
  {
   "cell_type": "code",
   "execution_count": 13,
   "metadata": {},
   "outputs": [
    {
     "data": {
      "text/plain": [
       "array([4, 0, 2, 3, 1, 3, 3, 0, 1, 2, 3, 4, 0, 4, 4, 1, 0, 4, 0, 1, 2, 2,\n",
       "       0, 0, 4, 3, 1, 3, 3, 4, 3, 2, 1, 2, 0, 4, 0, 3, 3, 2, 2, 3, 4, 0,\n",
       "       4, 4, 4, 2, 3, 0, 0, 4, 4, 4, 2, 2, 2, 4, 0, 4, 1, 1, 1, 1, 4, 3,\n",
       "       2, 1, 3, 3, 4, 1, 4, 1, 2, 4, 2, 4, 3, 4, 2, 1, 0, 0, 4, 3, 3, 0,\n",
       "       4, 1, 1, 4, 0, 1, 3, 3, 2, 3, 1, 3, 3, 2, 3, 4, 3, 0, 1, 1, 0, 1,\n",
       "       1, 0, 1, 3, 4, 2, 1, 2, 0, 4, 2, 3, 0, 4, 0, 2, 2, 1, 0, 4, 1, 0,\n",
       "       3, 4, 4, 1, 4, 3, 0, 4, 3, 2, 0, 0, 2, 0, 4, 4, 3, 4, 2, 4, 4, 1,\n",
       "       1, 4, 0, 3, 0, 0, 1, 3, 3, 2, 0, 4, 1, 1, 2, 3, 3, 1, 0, 2, 0, 4,\n",
       "       3, 4, 0, 2, 2, 0, 0, 3, 1, 1, 2, 1, 1, 1, 4, 4, 0, 2, 0, 1, 1, 2,\n",
       "       4, 1, 0, 0, 0, 4, 3, 1, 0, 0, 4, 4, 3, 0, 2, 2, 1, 0, 4, 0, 2, 3,\n",
       "       3, 1, 4, 1, 0, 3, 1, 2, 4, 1, 0, 2, 4, 3, 3, 0, 3, 3, 2, 3, 2, 2,\n",
       "       4, 4, 0, 0, 4, 2, 0, 0, 0, 1, 3, 2, 3, 1, 4, 4, 2, 1, 1, 0, 1, 3,\n",
       "       0, 2, 0, 2, 0, 0, 1, 4, 3, 0, 2, 4, 3, 0, 0, 3, 1, 3, 1, 0, 4, 3,\n",
       "       3, 3, 0, 4, 2, 3, 0, 0, 2, 4, 1, 4, 2, 2, 1, 4, 1, 1, 0, 2, 4, 3,\n",
       "       3, 0, 0, 0, 0, 0, 0, 3, 1, 4, 0, 3, 1, 3, 0, 4, 1, 0, 0, 3, 0, 4,\n",
       "       0, 3, 4, 0, 1, 2, 1, 1, 1, 0, 4, 1, 2, 1, 3, 3, 0, 0, 2, 4, 2, 2,\n",
       "       3, 4, 2, 4, 2, 1, 4, 4, 0, 1, 3, 3, 2, 0, 0, 3, 1, 4, 1, 0, 0, 3,\n",
       "       1, 4, 3, 2, 4, 3, 2, 2, 1, 1, 2, 2, 2, 4, 1, 4, 3, 2, 3, 0, 4, 3,\n",
       "       1, 0, 3, 0])"
      ]
     },
     "execution_count": 13,
     "metadata": {},
     "output_type": "execute_result"
    }
   ],
   "source": [
    "y_val"
   ]
  },
  {
   "cell_type": "code",
   "execution_count": 14,
   "metadata": {},
   "outputs": [
    {
     "data": {
      "text/plain": [
       "[(13, 10), (10, 8), (8, 5)]"
      ]
     },
     "execution_count": 14,
     "metadata": {},
     "output_type": "execute_result"
    }
   ],
   "source": [
    "[coef.shape for coef in clf.coefs_]"
   ]
  },
  {
   "cell_type": "code",
   "execution_count": null,
   "metadata": {},
   "outputs": [],
   "source": []
  }
 ],
 "metadata": {
  "kernelspec": {
   "display_name": "Python 3",
   "language": "python",
   "name": "python3"
  },
  "language_info": {
   "codemirror_mode": {
    "name": "ipython",
    "version": 3
   },
   "file_extension": ".py",
   "mimetype": "text/x-python",
   "name": "python",
   "nbconvert_exporter": "python",
   "pygments_lexer": "ipython3",
   "version": "3.6.2"
  }
 },
 "nbformat": 4,
 "nbformat_minor": 2
}
